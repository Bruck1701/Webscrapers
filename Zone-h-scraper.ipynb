{
 "cells": [
  {
   "cell_type": "code",
   "execution_count": 214,
   "metadata": {},
   "outputs": [],
   "source": [
    "import requests, re, sys, os\n",
    "#import urllib2\n",
    "#import csv\n",
    "import pandas as pd\n",
    "\n",
    "from bs4 import BeautifulSoup\n",
    "from datetime import datetime\n",
    "\n",
    "from urllib.request import urlopen\n",
    "import time\n",
    "import matplotlib.pyplot as plt\n",
    "\n",
    "from collections import Counter\n",
    "import operator\n",
    "import seaborn as sns\n",
    "import socket\n",
    "\n"
   ]
  },
  {
   "cell_type": "code",
   "execution_count": 75,
   "metadata": {},
   "outputs": [],
   "source": [
    "df=pd.DataFrame(columns=['date','site','attacker','mirror','os'])"
   ]
  },
  {
   "cell_type": "code",
   "execution_count": 12,
   "metadata": {},
   "outputs": [],
   "source": [
    "\n",
    "\n",
    "sess = requests.session()\n",
    "\n",
    "\n",
    "#inspect code from zoneh.org to find the the cookie information\n",
    "myCookie = {\n",
    "    'ZHE':'080bc96da36cdc3f9beb99043ac3dce5',\n",
    "  #  'ZH':'931be96f0472188542f55e28feea8b96',\n",
    "    'PHPSESSID':'o4u9300abn6o42k1jh4vqgcoa0'\n",
    "}\n",
    "\n",
    "\n"
   ]
  },
  {
   "cell_type": "code",
   "execution_count": 56,
   "metadata": {},
   "outputs": [],
   "source": []
  },
  {
   "cell_type": "code",
   "execution_count": 61,
   "metadata": {},
   "outputs": [],
   "source": []
  },
  {
   "cell_type": "code",
   "execution_count": 76,
   "metadata": {
    "scrolled": true
   },
   "outputs": [
    {
     "name": "stdout",
     "output_type": "stream",
     "text": [
      "Processing Page:  1\n",
      "http://zone-h.org/archive/special=1/page=1\n",
      "Processing Page:  2\n",
      "http://zone-h.org/archive/special=1/page=2\n",
      "Processing Page:  3\n",
      "http://zone-h.org/archive/special=1/page=3\n",
      "Processing Page:  4\n",
      "http://zone-h.org/archive/special=1/page=4\n",
      "Processing Page:  5\n",
      "http://zone-h.org/archive/special=1/page=5\n",
      "Processing Page:  6\n",
      "http://zone-h.org/archive/special=1/page=6\n",
      "Processing Page:  7\n",
      "http://zone-h.org/archive/special=1/page=7\n",
      "Processing Page:  8\n",
      "http://zone-h.org/archive/special=1/page=8\n",
      "Processing Page:  9\n",
      "http://zone-h.org/archive/special=1/page=9\n",
      "Processing Page:  10\n",
      "http://zone-h.org/archive/special=1/page=10\n",
      "Processing Page:  11\n",
      "http://zone-h.org/archive/special=1/page=11\n",
      "Processing Page:  12\n",
      "http://zone-h.org/archive/special=1/page=12\n",
      "Processing Page:  13\n",
      "http://zone-h.org/archive/special=1/page=13\n",
      "Processing Page:  14\n",
      "http://zone-h.org/archive/special=1/page=14\n",
      "Processing Page:  15\n",
      "http://zone-h.org/archive/special=1/page=15\n",
      "Processing Page:  16\n",
      "http://zone-h.org/archive/special=1/page=16\n",
      "Processing Page:  17\n",
      "http://zone-h.org/archive/special=1/page=17\n",
      "Processing Page:  18\n",
      "http://zone-h.org/archive/special=1/page=18\n",
      "Processing Page:  19\n",
      "http://zone-h.org/archive/special=1/page=19\n",
      "Processing Page:  20\n",
      "http://zone-h.org/archive/special=1/page=20\n",
      "Processing Page:  21\n",
      "http://zone-h.org/archive/special=1/page=21\n",
      "Processing Page:  22\n",
      "http://zone-h.org/archive/special=1/page=22\n",
      "Processing Page:  23\n",
      "http://zone-h.org/archive/special=1/page=23\n",
      "Processing Page:  24\n",
      "http://zone-h.org/archive/special=1/page=24\n",
      "Processing Page:  25\n",
      "http://zone-h.org/archive/special=1/page=25\n",
      "Processing Page:  26\n",
      "http://zone-h.org/archive/special=1/page=26\n",
      "Processing Page:  27\n",
      "http://zone-h.org/archive/special=1/page=27\n",
      "Processing Page:  28\n",
      "http://zone-h.org/archive/special=1/page=28\n",
      "Processing Page:  29\n",
      "http://zone-h.org/archive/special=1/page=29\n",
      "Processing Page:  30\n",
      "http://zone-h.org/archive/special=1/page=30\n",
      "Processing Page:  31\n",
      "http://zone-h.org/archive/special=1/page=31\n",
      "Processing Page:  32\n",
      "http://zone-h.org/archive/special=1/page=32\n",
      "Processing Page:  33\n",
      "http://zone-h.org/archive/special=1/page=33\n",
      "Processing Page:  34\n",
      "http://zone-h.org/archive/special=1/page=34\n",
      "Processing Page:  35\n",
      "http://zone-h.org/archive/special=1/page=35\n",
      "Processing Page:  36\n",
      "http://zone-h.org/archive/special=1/page=36\n",
      "Processing Page:  37\n",
      "http://zone-h.org/archive/special=1/page=37\n",
      "Processing Page:  38\n",
      "http://zone-h.org/archive/special=1/page=38\n",
      "Processing Page:  39\n",
      "http://zone-h.org/archive/special=1/page=39\n",
      "Processing Page:  40\n",
      "http://zone-h.org/archive/special=1/page=40\n",
      "Processing Page:  41\n",
      "http://zone-h.org/archive/special=1/page=41\n",
      "Processing Page:  42\n",
      "http://zone-h.org/archive/special=1/page=42\n",
      "Processing Page:  43\n",
      "http://zone-h.org/archive/special=1/page=43\n",
      "Processing Page:  44\n",
      "http://zone-h.org/archive/special=1/page=44\n",
      "Processing Page:  45\n",
      "http://zone-h.org/archive/special=1/page=45\n",
      "Processing Page:  46\n",
      "http://zone-h.org/archive/special=1/page=46\n",
      "Processing Page:  47\n",
      "http://zone-h.org/archive/special=1/page=47\n",
      "Processing Page:  48\n",
      "http://zone-h.org/archive/special=1/page=48\n",
      "Processing Page:  49\n",
      "http://zone-h.org/archive/special=1/page=49\n",
      "Processing Page:  50\n",
      "http://zone-h.org/archive/special=1/page=50\n"
     ]
    }
   ],
   "source": [
    "\n",
    "count=0\n",
    "for i in range(1,51):\n",
    "    print('Processing Page: ',i)\n",
    "    \n",
    "    url2=url+str(i)\n",
    "    print(url2)\n",
    "    \n",
    "    data = sess.get(url2, cookies=myCookie)\n",
    "    data2 = data.content\n",
    "    bs = BeautifulSoup(data2, 'lxml')\n",
    "    table_body = bs.find('table')\n",
    "    rows = table_body.find_all('tr', class_=None)[1:]\n",
    "    #count=0\n",
    "    \n",
    "    for row in rows:\n",
    "            entry = row.findAll('td')\n",
    "\n",
    "            if len(entry) > 1:\n",
    "                \n",
    "                date = entry[0].text\n",
    "                attacker = entry[1].text\n",
    "                site = entry[7].text\n",
    "                os = entry[8].text\n",
    "                mirror = entry[9].find('a').get('href')\n",
    "               \n",
    "                df.loc[count] = [date,site,attacker,mirror,os] \n",
    "                count+=1\n",
    "    \n",
    "    time.sleep(5) # Be nice with the webserver\n",
    "   \n",
    "          "
   ]
  },
  {
   "cell_type": "code",
   "execution_count": null,
   "metadata": {},
   "outputs": [],
   "source": []
  },
  {
   "cell_type": "code",
   "execution_count": null,
   "metadata": {},
   "outputs": [],
   "source": []
  },
  {
   "cell_type": "code",
   "execution_count": 79,
   "metadata": {},
   "outputs": [],
   "source": [
    "df['site']=df['site'].apply(lambda x: str(x).replace('\\n','').replace('\\t',''))"
   ]
  },
  {
   "cell_type": "code",
   "execution_count": 82,
   "metadata": {},
   "outputs": [
    {
     "data": {
      "text/html": [
       "<div>\n",
       "<style scoped>\n",
       "    .dataframe tbody tr th:only-of-type {\n",
       "        vertical-align: middle;\n",
       "    }\n",
       "\n",
       "    .dataframe tbody tr th {\n",
       "        vertical-align: top;\n",
       "    }\n",
       "\n",
       "    .dataframe thead th {\n",
       "        text-align: right;\n",
       "    }\n",
       "</style>\n",
       "<table border=\"1\" class=\"dataframe\">\n",
       "  <thead>\n",
       "    <tr style=\"text-align: right;\">\n",
       "      <th></th>\n",
       "      <th>date</th>\n",
       "      <th>site</th>\n",
       "      <th>attacker</th>\n",
       "      <th>mirror</th>\n",
       "      <th>os</th>\n",
       "    </tr>\n",
       "  </thead>\n",
       "  <tbody>\n",
       "    <tr>\n",
       "      <th>0</th>\n",
       "      <td>2019/04/22</td>\n",
       "      <td>sanluis.gob.mx/k.php</td>\n",
       "      <td>./Xi4u7</td>\n",
       "      <td>/mirror/id/32351245</td>\n",
       "      <td>Linux</td>\n",
       "    </tr>\n",
       "    <tr>\n",
       "      <th>1</th>\n",
       "      <td>2019/04/22</td>\n",
       "      <td>absensi.kemendag.go.id/bitch.html</td>\n",
       "      <td>PekapuranBerjaya</td>\n",
       "      <td>/mirror/id/32351133</td>\n",
       "      <td>F5 Big-IP</td>\n",
       "    </tr>\n",
       "    <tr>\n",
       "      <th>2</th>\n",
       "      <td>2019/04/22</td>\n",
       "      <td>pkk.mubakab.go.id</td>\n",
       "      <td>Akbar dravinky</td>\n",
       "      <td>/mirror/id/32351102</td>\n",
       "      <td>Linux</td>\n",
       "    </tr>\n",
       "    <tr>\n",
       "      <th>3</th>\n",
       "      <td>2019/04/22</td>\n",
       "      <td>www.pped.ie.ufrj.br/media/</td>\n",
       "      <td>PRdV</td>\n",
       "      <td>/mirror/id/32346511</td>\n",
       "      <td>Linux</td>\n",
       "    </tr>\n",
       "    <tr>\n",
       "      <th>4</th>\n",
       "      <td>2019/04/22</td>\n",
       "      <td>www.app.ie.ufrj.br/media/</td>\n",
       "      <td>PRdV</td>\n",
       "      <td>/mirror/id/32346510</td>\n",
       "      <td>Linux</td>\n",
       "    </tr>\n",
       "  </tbody>\n",
       "</table>\n",
       "</div>"
      ],
      "text/plain": [
       "         date                               site          attacker  \\\n",
       "0  2019/04/22               sanluis.gob.mx/k.php           ./Xi4u7   \n",
       "1  2019/04/22  absensi.kemendag.go.id/bitch.html  PekapuranBerjaya   \n",
       "2  2019/04/22                  pkk.mubakab.go.id    Akbar dravinky   \n",
       "3  2019/04/22         www.pped.ie.ufrj.br/media/              PRdV   \n",
       "4  2019/04/22          www.app.ie.ufrj.br/media/              PRdV   \n",
       "\n",
       "                mirror         os  \n",
       "0  /mirror/id/32351245      Linux  \n",
       "1  /mirror/id/32351133  F5 Big-IP  \n",
       "2  /mirror/id/32351102      Linux  \n",
       "3  /mirror/id/32346511      Linux  \n",
       "4  /mirror/id/32346510      Linux  "
      ]
     },
     "execution_count": 82,
     "metadata": {},
     "output_type": "execute_result"
    }
   ],
   "source": [
    "df.head()"
   ]
  },
  {
   "cell_type": "markdown",
   "metadata": {},
   "source": [
    "### Store the dataframe locally not to download it again..."
   ]
  },
  {
   "cell_type": "code",
   "execution_count": 91,
   "metadata": {},
   "outputs": [],
   "source": [
    "df.to_csv('zoneh-data/zoneh-archive.csv')"
   ]
  },
  {
   "cell_type": "code",
   "execution_count": null,
   "metadata": {},
   "outputs": [],
   "source": []
  },
  {
   "cell_type": "code",
   "execution_count": 93,
   "metadata": {},
   "outputs": [
    {
     "data": {
      "text/plain": [
       "1250"
      ]
     },
     "execution_count": 93,
     "metadata": {},
     "output_type": "execute_result"
    }
   ],
   "source": [
    "len(df)"
   ]
  },
  {
   "cell_type": "code",
   "execution_count": null,
   "metadata": {},
   "outputs": [],
   "source": []
  },
  {
   "cell_type": "code",
   "execution_count": 187,
   "metadata": {},
   "outputs": [],
   "source": [
    "def returnDict(column):\n",
    "    mydict=dict(Counter(df[column]))\n",
    "    mydict=sorted(mydict.items(), key=operator.itemgetter(1))\n",
    "    mydict=mydict[::-1]\n",
    "    return mydict"
   ]
  },
  {
   "cell_type": "code",
   "execution_count": null,
   "metadata": {},
   "outputs": [],
   "source": []
  },
  {
   "cell_type": "code",
   "execution_count": 188,
   "metadata": {},
   "outputs": [],
   "source": [
    "mydict=returnDict('os')"
   ]
  },
  {
   "cell_type": "code",
   "execution_count": 190,
   "metadata": {},
   "outputs": [
    {
     "data": {
      "text/plain": [
       "[('Linux', 972),\n",
       " ('Win 2012', 114),\n",
       " ('Unknown', 92),\n",
       " ('Win 2008', 42),\n",
       " ('FreeBSD', 10),\n",
       " ('F5 Big-IP', 8),\n",
       " ('Win 2016', 7),\n",
       " ('Win 2003', 4),\n",
       " ('MacOSX', 1)]"
      ]
     },
     "execution_count": 190,
     "metadata": {},
     "output_type": "execute_result"
    }
   ],
   "source": [
    "mydict"
   ]
  },
  {
   "cell_type": "code",
   "execution_count": 116,
   "metadata": {},
   "outputs": [],
   "source": [
    "#list_key_value = [ [k,v] for k, v in mydict.items() ]"
   ]
  },
  {
   "cell_type": "code",
   "execution_count": 180,
   "metadata": {},
   "outputs": [],
   "source": [
    "labels = [x[0] for x in mydict]\n",
    "sizes = [x[1] for x in mydict]\n",
    "explode= (0.2,0,0,0,0,0,0,0)\n",
    "#explode = (0, 0.1, 0, 0)  # only \"explode\" the 2nd slice (i.e. 'Hogs')"
   ]
  },
  {
   "cell_type": "code",
   "execution_count": 181,
   "metadata": {},
   "outputs": [],
   "source": [
    "pcts=[]\n",
    "for el in sizes:\n",
    "    pcts.append(str(100*float(el)/sum(sizes))+' %')"
   ]
  },
  {
   "cell_type": "code",
   "execution_count": 183,
   "metadata": {},
   "outputs": [
    {
     "data": {
      "image/png": "[encoded data removed]",
      "text/plain": [
       "<matplotlib.figure.Figure at 0x7f5f8ee7f278>"
      ]
     },
     "metadata": {},
     "output_type": "display_data"
    }
   ],
   "source": [
    "\n",
    "\n",
    "# Pie chart\n",
    "\n",
    "\n",
    "fig1, ax1 = plt.subplots(figsize=(20, 10))\n",
    "patches = ax1.pie(sizes[:-1], explode=explode, shadow=True, startangle=185,labeldistance=1.05,labels=pcts[:-1] )\n",
    "\n",
    "#patches, texts = plt.pie(y, colors=colors, startangle=90, radius=1.2)\n",
    "\n",
    "ax1.axis('equal')  # Equal aspect ratio ensures that pie is drawn as a circle.\n",
    "plt.legend(labels,loc='right');\n",
    "#plt.tight_layout()\n",
    "\n",
    "plt.show()\n"
   ]
  },
  {
   "cell_type": "code",
   "execution_count": null,
   "metadata": {},
   "outputs": [],
   "source": []
  },
  {
   "cell_type": "markdown",
   "metadata": {},
   "source": [
    "### Top attackers"
   ]
  },
  {
   "cell_type": "code",
   "execution_count": 198,
   "metadata": {},
   "outputs": [],
   "source": [
    "attackers=returnDict('attacker')"
   ]
  },
  {
   "cell_type": "code",
   "execution_count": 199,
   "metadata": {},
   "outputs": [],
   "source": [
    "attackers=attackers[0:20]"
   ]
  },
  {
   "cell_type": "code",
   "execution_count": 200,
   "metadata": {},
   "outputs": [
    {
     "data": {
      "text/plain": [
       "[('Family Attack Cyber', 108),\n",
       " ('eRRoR 7rB', 72),\n",
       " ('Panataran', 71),\n",
       " ('aDriv4', 49),\n",
       " ('Dev19Feb', 43),\n",
       " ('ph.hitachi', 41),\n",
       " ('Akbar dravinky', 37),\n",
       " ('KingSkrupellos', 35),\n",
       " ('ifactoryx', 34),\n",
       " ('Gang Dz', 33),\n",
       " ('ErrOr SquaD', 30),\n",
       " ('Triple A', 24),\n",
       " ('Red Eye', 21),\n",
       " ('Inocent', 20),\n",
       " ('KURD ELECTRONIC TEAM', 19),\n",
       " ('4LM05TH3V!L', 17),\n",
       " ('Sons of Anarchy', 17),\n",
       " ('DARKRON', 17),\n",
       " ('Vijune15', 16),\n",
       " ('-1', 15)]"
      ]
     },
     "execution_count": 200,
     "metadata": {},
     "output_type": "execute_result"
    }
   ],
   "source": [
    "attackers"
   ]
  },
  {
   "cell_type": "code",
   "execution_count": 201,
   "metadata": {},
   "outputs": [],
   "source": [
    "tmp=pd.DataFrame(attackers)"
   ]
  },
  {
   "cell_type": "code",
   "execution_count": 203,
   "metadata": {},
   "outputs": [],
   "source": [
    "tmp.columns=['Attacker','Defacements']"
   ]
  },
  {
   "cell_type": "code",
   "execution_count": 208,
   "metadata": {},
   "outputs": [
    {
     "data": {
      "image/png": "[encoded data removed]",
      "text/plain": [
       "<matplotlib.figure.Figure at 0x7f5f64419828>"
      ]
     },
     "metadata": {},
     "output_type": "display_data"
    }
   ],
   "source": [
    "#import seaborn as sns\n",
    "sns.set(style=\"whitegrid\")\n",
    "sns.set(rc={'figure.figsize':(11.7,8.27)})\n",
    "\n",
    "ax = sns.barplot(x=\"Attacker\", y=\"Defacements\", data=tmp)\n",
    "ax.set_xticklabels(labels=tmp.Attacker.values,rotation=90);\n",
    "\n",
    "#g = sns.factorplot(\"year\", data=planets, aspect=1.5, kind=\"count\", color=\"b\")\n",
    "#g.\n"
   ]
  },
  {
   "cell_type": "markdown",
   "metadata": {},
   "source": [
    "# Location of defacements"
   ]
  },
  {
   "cell_type": "code",
   "execution_count": 209,
   "metadata": {},
   "outputs": [
    {
     "data": {
      "text/html": [
       "<div>\n",
       "<style scoped>\n",
       "    .dataframe tbody tr th:only-of-type {\n",
       "        vertical-align: middle;\n",
       "    }\n",
       "\n",
       "    .dataframe tbody tr th {\n",
       "        vertical-align: top;\n",
       "    }\n",
       "\n",
       "    .dataframe thead th {\n",
       "        text-align: right;\n",
       "    }\n",
       "</style>\n",
       "<table border=\"1\" class=\"dataframe\">\n",
       "  <thead>\n",
       "    <tr style=\"text-align: right;\">\n",
       "      <th></th>\n",
       "      <th>date</th>\n",
       "      <th>site</th>\n",
       "      <th>attacker</th>\n",
       "      <th>mirror</th>\n",
       "      <th>os</th>\n",
       "    </tr>\n",
       "  </thead>\n",
       "  <tbody>\n",
       "    <tr>\n",
       "      <th>0</th>\n",
       "      <td>2019/04/22</td>\n",
       "      <td>sanluis.gob.mx/k.php</td>\n",
       "      <td>./Xi4u7</td>\n",
       "      <td>/mirror/id/32351245</td>\n",
       "      <td>Linux</td>\n",
       "    </tr>\n",
       "    <tr>\n",
       "      <th>1</th>\n",
       "      <td>2019/04/22</td>\n",
       "      <td>absensi.kemendag.go.id/bitch.html</td>\n",
       "      <td>PekapuranBerjaya</td>\n",
       "      <td>/mirror/id/32351133</td>\n",
       "      <td>F5 Big-IP</td>\n",
       "    </tr>\n",
       "    <tr>\n",
       "      <th>2</th>\n",
       "      <td>2019/04/22</td>\n",
       "      <td>pkk.mubakab.go.id</td>\n",
       "      <td>Akbar dravinky</td>\n",
       "      <td>/mirror/id/32351102</td>\n",
       "      <td>Linux</td>\n",
       "    </tr>\n",
       "    <tr>\n",
       "      <th>3</th>\n",
       "      <td>2019/04/22</td>\n",
       "      <td>www.pped.ie.ufrj.br/media/</td>\n",
       "      <td>PRdV</td>\n",
       "      <td>/mirror/id/32346511</td>\n",
       "      <td>Linux</td>\n",
       "    </tr>\n",
       "    <tr>\n",
       "      <th>4</th>\n",
       "      <td>2019/04/22</td>\n",
       "      <td>www.app.ie.ufrj.br/media/</td>\n",
       "      <td>PRdV</td>\n",
       "      <td>/mirror/id/32346510</td>\n",
       "      <td>Linux</td>\n",
       "    </tr>\n",
       "  </tbody>\n",
       "</table>\n",
       "</div>"
      ],
      "text/plain": [
       "         date                               site          attacker  \\\n",
       "0  2019/04/22               sanluis.gob.mx/k.php           ./Xi4u7   \n",
       "1  2019/04/22  absensi.kemendag.go.id/bitch.html  PekapuranBerjaya   \n",
       "2  2019/04/22                  pkk.mubakab.go.id    Akbar dravinky   \n",
       "3  2019/04/22         www.pped.ie.ufrj.br/media/              PRdV   \n",
       "4  2019/04/22          www.app.ie.ufrj.br/media/              PRdV   \n",
       "\n",
       "                mirror         os  \n",
       "0  /mirror/id/32351245      Linux  \n",
       "1  /mirror/id/32351133  F5 Big-IP  \n",
       "2  /mirror/id/32351102      Linux  \n",
       "3  /mirror/id/32346511      Linux  \n",
       "4  /mirror/id/32346510      Linux  "
      ]
     },
     "execution_count": 209,
     "metadata": {},
     "output_type": "execute_result"
    }
   ],
   "source": [
    "df.head()"
   ]
  },
  {
   "cell_type": "code",
   "execution_count": 211,
   "metadata": {},
   "outputs": [],
   "source": [
    "srv_list1=df['site']\n",
    "srv_list2=[]\n",
    "for i in srv_list1:\n",
    "    #print(i)\n",
    "    j=re.sub(r'^https?\\:\\/\\/', '', i, flags=re.I)\n",
    "    j=j.split(\"/\")[0]\n",
    "    #print(j)\n",
    "    srv_list2.append(j)"
   ]
  },
  {
   "cell_type": "code",
   "execution_count": null,
   "metadata": {},
   "outputs": [],
   "source": [
    "ip_list=[]\n",
    "for i in srv_list2:\n",
    "    try:\n",
    "        ip=socket.gethostbyname(i)\n",
    "        ip_list.append(ip)\n",
    "        #print(str(i)+\": \"+str(ip))\n",
    "    except:\n",
    "        ip_list.append('0.0.0.0')"
   ]
  },
  {
   "cell_type": "code",
   "execution_count": null,
   "metadata": {},
   "outputs": [],
   "source": []
  },
  {
   "cell_type": "code",
   "execution_count": null,
   "metadata": {},
   "outputs": [],
   "source": []
  }
 ],
 "metadata": {
  "kernelspec": {
   "display_name": "Bruckenv",
   "language": "python",
   "name": "bruckenv"
  },
  "language_info": {
   "codemirror_mode": {
    "name": "ipython",
    "version": 3
   },
   "file_extension": ".py",
   "mimetype": "text/x-python",
   "name": "python",
   "nbconvert_exporter": "python",
   "pygments_lexer": "ipython3",
   "version": "3.6.4"
  }
 },
 "nbformat": 4,
 "nbformat_minor": 2
}
